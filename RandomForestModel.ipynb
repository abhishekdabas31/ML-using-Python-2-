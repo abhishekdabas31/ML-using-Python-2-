{
 "cells": [
  {
   "cell_type": "code",
   "execution_count": 1,
   "metadata": {},
   "outputs": [],
   "source": [
    "import pandas as pd\n",
    "from sklearn.model_selection import train_test_split"
   ]
  },
  {
   "cell_type": "code",
   "execution_count": 2,
   "metadata": {},
   "outputs": [],
   "source": [
    "X_full = pd.read_csv('C:\\\\Users\\\\Abhishek\\\\Desktop\\\\My_Projects\\\\New folder\\\\train.csv', index_col='Id')\n",
    "X_test_full = pd.read_csv('C:\\\\Users\\\\Abhishek\\\\Desktop\\\\My_Projects\\\\New folder\\\\test.csv', index_col='Id')\n"
   ]
  },
  {
   "cell_type": "code",
   "execution_count": 3,
   "metadata": {},
   "outputs": [],
   "source": [
    "y = X_full.SalePrice\n",
    "features = ['LotArea', 'YearBuilt', '1stFlrSF', '2ndFlrSF', 'FullBath', 'BedroomAbvGr', 'TotRmsAbvGrd']\n",
    "X = X_full[features].copy()\n",
    "X_test = X_test_full[features].copy()"
   ]
  },
  {
   "cell_type": "code",
   "execution_count": 4,
   "metadata": {},
   "outputs": [],
   "source": [
    "# Break off validation set from training data\n",
    "X_train, X_valid, y_train, y_valid = train_test_split(X, y, train_size=0.8, test_size=0.2,\n",
    "                                                      random_state=0)"
   ]
  },
  {
   "cell_type": "code",
   "execution_count": 5,
   "metadata": {},
   "outputs": [
    {
     "data": {
      "text/html": [
       "<div>\n",
       "<style scoped>\n",
       "    .dataframe tbody tr th:only-of-type {\n",
       "        vertical-align: middle;\n",
       "    }\n",
       "\n",
       "    .dataframe tbody tr th {\n",
       "        vertical-align: top;\n",
       "    }\n",
       "\n",
       "    .dataframe thead th {\n",
       "        text-align: right;\n",
       "    }\n",
       "</style>\n",
       "<table border=\"1\" class=\"dataframe\">\n",
       "  <thead>\n",
       "    <tr style=\"text-align: right;\">\n",
       "      <th></th>\n",
       "      <th>LotArea</th>\n",
       "      <th>YearBuilt</th>\n",
       "      <th>1stFlrSF</th>\n",
       "      <th>2ndFlrSF</th>\n",
       "      <th>FullBath</th>\n",
       "      <th>BedroomAbvGr</th>\n",
       "      <th>TotRmsAbvGrd</th>\n",
       "    </tr>\n",
       "    <tr>\n",
       "      <th>Id</th>\n",
       "      <th></th>\n",
       "      <th></th>\n",
       "      <th></th>\n",
       "      <th></th>\n",
       "      <th></th>\n",
       "      <th></th>\n",
       "      <th></th>\n",
       "    </tr>\n",
       "  </thead>\n",
       "  <tbody>\n",
       "    <tr>\n",
       "      <td>619</td>\n",
       "      <td>11694</td>\n",
       "      <td>2007</td>\n",
       "      <td>1828</td>\n",
       "      <td>0</td>\n",
       "      <td>2</td>\n",
       "      <td>3</td>\n",
       "      <td>9</td>\n",
       "    </tr>\n",
       "    <tr>\n",
       "      <td>871</td>\n",
       "      <td>6600</td>\n",
       "      <td>1962</td>\n",
       "      <td>894</td>\n",
       "      <td>0</td>\n",
       "      <td>1</td>\n",
       "      <td>2</td>\n",
       "      <td>5</td>\n",
       "    </tr>\n",
       "    <tr>\n",
       "      <td>93</td>\n",
       "      <td>13360</td>\n",
       "      <td>1921</td>\n",
       "      <td>964</td>\n",
       "      <td>0</td>\n",
       "      <td>1</td>\n",
       "      <td>2</td>\n",
       "      <td>5</td>\n",
       "    </tr>\n",
       "    <tr>\n",
       "      <td>818</td>\n",
       "      <td>13265</td>\n",
       "      <td>2002</td>\n",
       "      <td>1689</td>\n",
       "      <td>0</td>\n",
       "      <td>2</td>\n",
       "      <td>3</td>\n",
       "      <td>7</td>\n",
       "    </tr>\n",
       "    <tr>\n",
       "      <td>303</td>\n",
       "      <td>13704</td>\n",
       "      <td>2001</td>\n",
       "      <td>1541</td>\n",
       "      <td>0</td>\n",
       "      <td>2</td>\n",
       "      <td>3</td>\n",
       "      <td>6</td>\n",
       "    </tr>\n",
       "  </tbody>\n",
       "</table>\n",
       "</div>"
      ],
      "text/plain": [
       "     LotArea  YearBuilt  1stFlrSF  2ndFlrSF  FullBath  BedroomAbvGr  \\\n",
       "Id                                                                    \n",
       "619    11694       2007      1828         0         2             3   \n",
       "871     6600       1962       894         0         1             2   \n",
       "93     13360       1921       964         0         1             2   \n",
       "818    13265       2002      1689         0         2             3   \n",
       "303    13704       2001      1541         0         2             3   \n",
       "\n",
       "     TotRmsAbvGrd  \n",
       "Id                 \n",
       "619             9  \n",
       "871             5  \n",
       "93              5  \n",
       "818             7  \n",
       "303             6  "
      ]
     },
     "execution_count": 5,
     "metadata": {},
     "output_type": "execute_result"
    }
   ],
   "source": [
    "X_train.head()"
   ]
  },
  {
   "cell_type": "markdown",
   "metadata": {},
   "source": [
    "# Evaluating several Models"
   ]
  },
  {
   "cell_type": "markdown",
   "metadata": {},
   "source": [
    "The next code cell defines five different random forest models:"
   ]
  },
  {
   "cell_type": "code",
   "execution_count": 6,
   "metadata": {},
   "outputs": [],
   "source": [
    "from sklearn.ensemble import RandomForestRegressor\n"
   ]
  },
  {
   "cell_type": "code",
   "execution_count": 18,
   "metadata": {},
   "outputs": [],
   "source": [
    "model_1 = RandomForestRegressor(n_estimators=50, random_state=0)\n",
    "model_2 = RandomForestRegressor(n_estimators=100, random_state=0)\n",
    "model_3 = RandomForestRegressor(n_estimators=100, criterion='mae', random_state=0)\n",
    "model_4 = RandomForestRegressor(n_estimators=200, min_samples_split=20, random_state=0)\n",
    "model_5 = RandomForestRegressor(n_estimators=100, max_depth=7, random_state=0)"
   ]
  },
  {
   "cell_type": "code",
   "execution_count": 20,
   "metadata": {},
   "outputs": [],
   "source": [
    "models=[model_1,model_2,model_3,model_4,model_5]"
   ]
  },
  {
   "cell_type": "markdown",
   "metadata": {},
   "source": [
    "calculating mean absolute error for each one of the model"
   ]
  },
  {
   "cell_type": "code",
   "execution_count": 21,
   "metadata": {},
   "outputs": [],
   "source": [
    "from sklearn.metrics import mean_absolute_error"
   ]
  },
  {
   "cell_type": "code",
   "execution_count": 22,
   "metadata": {},
   "outputs": [],
   "source": [
    "def score_model(model, X_t=X_train, X_v=X_valid, y_t=y_train, y_v=y_valid):\n",
    "    model.fit(X_t, y_t)\n",
    "    preds = model.predict(X_v)\n",
    "    return mean_absolute_error(y_v, preds)"
   ]
  },
  {
   "cell_type": "code",
   "execution_count": 23,
   "metadata": {},
   "outputs": [
    {
     "name": "stdout",
     "output_type": "stream",
     "text": [
      "Model 1 MAE: 24015\n",
      "Model 2 MAE: 23740\n",
      "Model 3 MAE: 23528\n",
      "Model 4 MAE: 23996\n",
      "Model 5 MAE: 23706\n"
     ]
    }
   ],
   "source": [
    "for i in range(0, len(models)):\n",
    "    mae = score_model(models[i])\n",
    "    print(\"Model %d MAE: %d\" % (i+1, mae))"
   ]
  },
  {
   "cell_type": "markdown",
   "metadata": {},
   "source": [
    "The best Model??\n",
    "Model 3"
   ]
  },
  {
   "cell_type": "code",
   "execution_count": 24,
   "metadata": {},
   "outputs": [],
   "source": [
    "my_model = RandomForestRegressor(n_estimators=100, criterion='mae', random_state=0) "
   ]
  },
  {
   "cell_type": "code",
   "execution_count": 25,
   "metadata": {},
   "outputs": [
    {
     "data": {
      "text/plain": [
       "RandomForestRegressor(bootstrap=True, criterion='mae', max_depth=None,\n",
       "                      max_features='auto', max_leaf_nodes=None,\n",
       "                      min_impurity_decrease=0.0, min_impurity_split=None,\n",
       "                      min_samples_leaf=1, min_samples_split=2,\n",
       "                      min_weight_fraction_leaf=0.0, n_estimators=100,\n",
       "                      n_jobs=None, oob_score=False, random_state=0, verbose=0,\n",
       "                      warm_start=False)"
      ]
     },
     "execution_count": 25,
     "metadata": {},
     "output_type": "execute_result"
    }
   ],
   "source": [
    "my_model.fit(X_train,y_train)"
   ]
  },
  {
   "cell_type": "code",
   "execution_count": 28,
   "metadata": {},
   "outputs": [],
   "source": [
    "prediction= my_model.predict(X_valid)"
   ]
  },
  {
   "cell_type": "code",
   "execution_count": 29,
   "metadata": {},
   "outputs": [
    {
     "data": {
      "text/plain": [
       "array([262826.7 , 161030.  , 121715.  , 192786.29,  89776.  ,  98737.96,\n",
       "       242010.96, 126814.18, 614229.83, 190422.96, 194436.82, 154430.7 ,\n",
       "       234617.27, 122241.66, 135508.98, 142041.5 , 228326.2 , 135289.  ,\n",
       "       148995.35, 130797.03, 123561.67, 147470.76, 112999.97, 182153.08,\n",
       "       153148.75, 172125.96, 177014.  ,  86009.  , 324992.51, 115951.09,\n",
       "       144162.  , 186294.3 , 125293.4 , 279409.84, 319166.87, 179748.7 ,\n",
       "       217857.99, 119879.83, 227816.28, 304610.95, 222696.  , 140890.2 ,\n",
       "       186163.94, 295641.82, 325168.43, 143202.5 , 106535.66, 127839.6 ,\n",
       "       168493.25, 120249.5 , 322104.44, 144907.75, 167798.  , 101156.  ,\n",
       "       230690.  , 104351.77, 125809.42, 223044.64, 133430.  , 104874.  ,\n",
       "       142835.25, 127037.72, 135341.  , 151881.14, 237802.28, 157812.5 ,\n",
       "       126425.5 , 217399.12, 100397.44, 209989.35, 178472.1 , 113898.58,\n",
       "       116438.44, 214876.63, 119178.22, 274143.11, 137079.25,  91907.  ,\n",
       "       327978.12, 155853.5 , 131767.9 , 126911.1 , 133865.26, 136280.  ,\n",
       "       231338.2 , 188476.12, 112963.5 , 203502.8 , 201727.95, 131832.25,\n",
       "       191915.9 , 172438.25, 186286.26, 230142.76, 179144.68, 131339.  ,\n",
       "       214410.77, 161086.2 , 110269.64, 134787.72, 303698.89, 214601.39,\n",
       "       153659.5 , 155070.75,  75890.  , 293674.42, 142357.85, 112848.5 ,\n",
       "       178305.43, 127720.42,  63044.  , 130607.5 , 213009.56, 106743.  ,\n",
       "       172709.28, 147715.34, 396720.82, 129969.75, 199737.79, 245359.91,\n",
       "       155454.5 , 165631.74, 125950.5 , 190077.  , 231253.93, 231422.95,\n",
       "       384450.41, 189682.26, 184441.35, 186672.  , 189214.  , 186529.64,\n",
       "       178713.23, 185219.  , 121333.83, 255215.33, 127659.  , 185994.17,\n",
       "       107019.24, 186740.  , 144753.  , 151607.76, 249374.  , 142504.  ,\n",
       "       174420.5 , 181487.61, 234715.13, 131605.75, 271403.81, 215064.14,\n",
       "       159473.5 , 333111.66, 317868.39, 133570.  , 143794.74, 232037.46,\n",
       "       119161.92, 159144.  , 155305.29, 172022.  , 125035.5 , 148778.64,\n",
       "       185673.14, 122902.5 , 237394.66, 138790.76, 161529.5 , 311742.5 ,\n",
       "       193014.8 , 181106.  , 158099.2 , 155585.04, 211778.92, 180700.8 ,\n",
       "       141620.5 , 103129.61, 131020.69, 241263.4 , 109585.06, 149621.7 ,\n",
       "       197482.14, 169056.5 ,  85641.  , 299929.65, 105850.61, 167902.75,\n",
       "        87816.5 , 192124.66, 200355.66, 144152.26, 135289.  , 139956.5 ,\n",
       "       224375.63, 139005.  , 103643.56, 139518.74,  82513.  , 140167.  ,\n",
       "       166059.5 , 123263.34, 148258.5 , 173138.4 ,  99790.  , 142057.6 ,\n",
       "       138624.62, 223311.11, 148018.87, 240906.66, 304842.36,  75293.28,\n",
       "       152000.  , 266493.  ,  98945.86,  93973.8 , 254251.  , 222797.3 ,\n",
       "       183182.  , 294939.83, 267708.87,  89525.  , 199937.  , 166139.5 ,\n",
       "       138986.55, 122556.83, 192637.84, 243381.25, 210060.93, 261154.  ,\n",
       "       137694.73, 176909.  ,  99664.93,  91459.11, 120335.5 , 148353.  ,\n",
       "       230138.8 , 132369.04, 154894.75, 103968.  , 126058.33, 175081.02,\n",
       "        91477.04, 200902.45, 225769.6 , 220142.  , 164237.5 , 135153.5 ,\n",
       "       168909.25, 181685.29, 113615.76, 187029.66, 157737.  , 252955.9 ,\n",
       "        82565.4 , 365499.42, 207438.63, 274924.62,  88594.  , 225069.4 ,\n",
       "       416167.52, 439911.86, 139365.5 , 154169.5 , 170647.  , 123338.75,\n",
       "       429469.91, 319083.97, 251097.8 ,  77461.11, 173262.  , 312807.5 ,\n",
       "       143549.11, 185733.37, 130181.  , 200012.82, 127406.28, 233830.08,\n",
       "       204452.3 , 172985.74, 217253.8 , 123079.5 , 125722.  , 361517.58,\n",
       "       152623.75, 124815.86, 207483.73, 214012.  , 103156.5 , 276051.33,\n",
       "       491385.53, 176388.8 ,  79419.  ,  86088.11])"
      ]
     },
     "execution_count": 29,
     "metadata": {},
     "output_type": "execute_result"
    }
   ],
   "source": [
    "prediction"
   ]
  },
  {
   "cell_type": "markdown",
   "metadata": {},
   "source": [
    "Note: predictions are in Arrayform"
   ]
  },
  {
   "cell_type": "code",
   "execution_count": null,
   "metadata": {},
   "outputs": [],
   "source": []
  }
 ],
 "metadata": {
  "kernelspec": {
   "display_name": "Python 3",
   "language": "python",
   "name": "python3"
  },
  "language_info": {
   "codemirror_mode": {
    "name": "ipython",
    "version": 3
   },
   "file_extension": ".py",
   "mimetype": "text/x-python",
   "name": "python",
   "nbconvert_exporter": "python",
   "pygments_lexer": "ipython3",
   "version": "3.7.4"
  }
 },
 "nbformat": 4,
 "nbformat_minor": 2
}
